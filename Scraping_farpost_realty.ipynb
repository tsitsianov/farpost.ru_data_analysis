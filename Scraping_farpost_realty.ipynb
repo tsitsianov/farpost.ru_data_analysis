{
 "cells": [
  {
   "cell_type": "markdown",
   "metadata": {},
   "source": [
    "###                        Парсинг данных из сохраненной страницы продажи недвижимости сайта farpost.ru"
   ]
  },
  {
   "cell_type": "code",
   "execution_count": 3,
   "metadata": {},
   "outputs": [],
   "source": [
    "import codecs\n",
    "import numpy as np \n",
    "import re\n",
    "from lxml import html\n",
    "from bs4 import BeautifulSoup\n",
    "from lxml import html"
   ]
  },
  {
   "cell_type": "code",
   "execution_count": 2,
   "metadata": {},
   "outputs": [],
   "source": [
    "file_open = codecs.open('index.html','r', encoding='cp1251')\n",
    "index = file_open.read()"
   ]
  },
  {
   "cell_type": "code",
   "execution_count": 4,
   "metadata": {},
   "outputs": [
    {
     "name": "stdout",
     "output_type": "stream",
     "text": [
      "3122\n"
     ]
    }
   ],
   "source": [
    "soup = BeautifulSoup(index)\n",
    "item_list = soup.find_all('tr', {'data-source': 'actual'}) # вырезать блок с данными о квартирах\n",
    "print(len(item_list))"
   ]
  },
  {
   "cell_type": "code",
   "execution_count": 5,
   "metadata": {},
   "outputs": [
    {
     "name": "stdout",
     "output_type": "stream",
     "text": [
      "<attribute 'message' of 'exceptions.BaseException' objects>\n",
      "<attribute 'message' of 'exceptions.BaseException' objects>\n"
     ]
    }
   ],
   "source": [
    "report = \"\"\n",
    "for item in item_list:\n",
    "    link = item.find(\"a\",{'class': 'bulletinLink'})# тег href\n",
    "    coast = item.find('span', {'data-role': 'price' }) # тег стоимость\n",
    "    views = item.find('span', {'class': 'views' }) # тег количество просмотров\n",
    "    descr = item.find('a', {'data-role': 'bulletin-link' }) # количество комнат, улица, дом \n",
    "    annotation = item.find('div', {'class': 'bull-item__annotation-row' }) # тег описание(район, кто продает, площадь)\n",
    "    try:\n",
    "        temp = descr.text\n",
    "        square = temp[temp.rfind(\" \"):]\n",
    "        rooms = temp[:temp.rfind(\" \")].split(',')[0]\n",
    "        street = temp[:temp.rfind(\" \")].split(',')[1]\n",
    "        if(views==None):\n",
    "            views= \"None\"\n",
    "            report = report + link.get(\"href\") + \";\" + coast.text + \";\"+ views + \";\" + annotation.text + \";\" + rooms + ';' + street + ';' + square + \"\\n\"\n",
    "            continue\n",
    "        if(coast==None):\n",
    "            coast = \"None\"\n",
    "            report = report + link.get(\"href\") + \";\" + coast + \";\"+ views.text + \";\" + annotation.text + \";\" + rooms + ';' + street + ';' + square + \"\\n\"\n",
    "            continue\n",
    "        if(annotation==None):\n",
    "            annotation= \"None\"\n",
    "            report = report + link.get(\"href\") + \";\" + coast.text + \";\"+ views.text + \";\" + annotation + \";\" + rooms + ';' + street + ';' + square + \"\\n\"\n",
    "            continue\n",
    "        report = report + link.get(\"href\") + \";\" + coast.text + \";\"+ views.text + \";\" + annotation.text + \";\" + rooms + ';' + street + ';' + square + \"\\n\"\n",
    "    except Exception: print(Exception.message)\n",
    "with open('realty.csv', 'a') as the_file:\n",
    "    the_file.write(report.encode('utf-8'))"
   ]
  }
 ],
 "metadata": {
  "kernelspec": {
   "display_name": "Python 2",
   "language": "python",
   "name": "python2"
  },
  "language_info": {
   "codemirror_mode": {
    "name": "ipython",
    "version": 2
   },
   "file_extension": ".py",
   "mimetype": "text/x-python",
   "name": "python",
   "nbconvert_exporter": "python",
   "pygments_lexer": "ipython2",
   "version": "2.7.16"
  }
 },
 "nbformat": 4,
 "nbformat_minor": 2
}
